{
 "cells": [
  {
   "cell_type": "code",
   "execution_count": null,
   "metadata": {},
   "outputs": [],
   "source": [
    "import pandas as pd\n",
    "import seaborn as sns\n",
    "\n",
    "df = pd.read_csv('athlete_events.csv')\n",
    "df.shape"
   ]
  },
  {
   "cell_type": "code",
   "execution_count": null,
   "metadata": {},
   "outputs": [],
   "source": [
    "list(df)"
   ]
  },
  {
   "cell_type": "code",
   "execution_count": null,
   "metadata": {},
   "outputs": [],
   "source": [
    "(sns.distplot(df[df.Sex=='F'].Weight.dropna()),\n",
    "sns.distplot(df[df.Sex=='M'].Weight.dropna())\n",
    ")\n"
   ]
  },
  {
   "cell_type": "code",
   "execution_count": null,
   "metadata": {},
   "outputs": [],
   "source": [
    "(sns.distplot(df[df.Sex=='F'][ df.Sport=='Swimming'].Height.dropna()),\n",
    "sns.distplot(df[df.Sex=='M'][df.Sport=='Swimming'].Height.dropna())\n",
    ")"
   ]
  },
  {
   "cell_type": "code",
   "execution_count": null,
   "metadata": {},
   "outputs": [],
   "source": [
    "def NaN_percent(df, column_name):\n",
    "    row_count = df[column_name].shape[0]\n",
    "    empty_values = row_count - df[column_name].count()\n",
    "    return (100.0*empty_values)/row_count"
   ]
  },
  {
   "cell_type": "code",
   "execution_count": null,
   "metadata": {},
   "outputs": [],
   "source": [
    "NaN_percent(df, 'Height')"
   ]
  },
  {
   "cell_type": "code",
   "execution_count": null,
   "metadata": {},
   "outputs": [],
   "source": [
    "for i in list(df):\n",
    "    print(i +': ' + str(NaN_percent(df,i))+'%')"
   ]
  },
  {
   "cell_type": "code",
   "execution_count": null,
   "metadata": {},
   "outputs": [],
   "source": [
    "total_rows = df.shape[0]\n",
    "unique_athletes = len(df.Name.unique())\n",
    "medal_winners = len(df[df.Medal.fillna('None')!='None'].Name.unique())\n",
    "\n",
    "\"{0} {1} {2}\".format(total_rows, unique_athletes, medal_winners)"
   ]
  },
  {
   "cell_type": "code",
   "execution_count": null,
   "metadata": {},
   "outputs": [],
   "source": [
    "print(df[df.Medal.fillna('None')!='None'].Medal.value_counts())\n",
    "df[df.Medal.fillna('None')!='None'].shape[0]"
   ]
  },
  {
   "cell_type": "code",
   "execution_count": null,
   "metadata": {},
   "outputs": [],
   "source": [
    "team_medal_count = df.groupby(['Team','Medal']).Medal.agg('count')\n",
    "team_medal_count = team_medal_count.reset_index(name='count').sort_values(['count'], ascending=False)\n",
    "team_medal_count.head(10)"
   ]
  },
  {
   "cell_type": "code",
   "execution_count": null,
   "metadata": {},
   "outputs": [],
   "source": [
    "def get_country_stats(country):\n",
    "    return team_medal_count[team_medal_count.Team==country]"
   ]
  },
  {
   "cell_type": "code",
   "execution_count": null,
   "metadata": {},
   "outputs": [],
   "source": [
    "get_country_stats('Chile')"
   ]
  },
  {
   "cell_type": "code",
   "execution_count": null,
   "metadata": {},
   "outputs": [],
   "source": [
    "df[df.Team=='Croatia'].Year.unique()"
   ]
  },
  {
   "cell_type": "code",
   "execution_count": null,
   "metadata": {},
   "outputs": [],
   "source": [
    "unique_women = len(df[df.Sex=='F'].Name.unique())\n",
    "unique_men = len(df[df.Sex=='M'].Name.unique())\n",
    "women_medals = df[df.Sex=='F'].Medal.count()\n",
    "men_medals = df[df.Sex=='M'].Medal.count()\n",
    "\n",
    "print(\"{} {} {} {} \".format(unique_women, unique_men, women_medals, men_medals ))\n",
    "\n",
    "df[df.Sex=='F'].Year.min()"
   ]
  },
  {
   "cell_type": "code",
   "execution_count": null,
   "metadata": {},
   "outputs": [],
   "source": [
    "female = df[df.Sex=='F']\n",
    "year_count = female.groupby('Year').agg('count')\n",
    "years = list(year_count.index)\n",
    "counts =  list(year_count.Name)\n",
    "sns.scatterplot(x = years, y = counts)"
   ]
  },
  {
   "cell_type": "code",
   "execution_count": null,
   "metadata": {},
   "outputs": [],
   "source": [
    "f_year_count = df[df.Sex=='F'].groupby('Year').agg('count').Name\n",
    "m_year_count = df[df.Sex=='M'].groupby('Year').agg('count').Name\n",
    "(sns.scatterplot(data= m_year_count),\n",
    " sns.scatterplot(data =f_year_count))"
   ]
  },
  {
   "cell_type": "code",
   "execution_count": null,
   "metadata": {},
   "outputs": [],
   "source": [
    "df.Sport.value_counts()"
   ]
  },
  {
   "cell_type": "code",
   "execution_count": null,
   "metadata": {},
   "outputs": [],
   "source": []
  }
 ],
 "metadata": {
  "kernelspec": {
   "display_name": "Python 2",
   "language": "python",
   "name": "python2"
  },
  "language_info": {
   "codemirror_mode": {
    "name": "ipython",
    "version": 2
   },
   "file_extension": ".py",
   "mimetype": "text/x-python",
   "name": "python",
   "nbconvert_exporter": "python",
   "pygments_lexer": "ipython2",
   "version": "2.7.12"
  }
 },
 "nbformat": 4,
 "nbformat_minor": 2
}
