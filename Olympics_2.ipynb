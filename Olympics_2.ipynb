{
 "cells": [
  {
   "cell_type": "code",
   "execution_count": 2,
   "metadata": {},
   "outputs": [
    {
     "data": {
      "text/plain": [
       "(271116, 15)"
      ]
     },
     "execution_count": 2,
     "metadata": {},
     "output_type": "execute_result"
    }
   ],
   "source": [
    "import pandas as pd\n",
    "import seaborn as sns\n",
    "\n",
    "df = pd.read_csv('athlete_events.csv')\n",
    "df.shape"
   ]
  },
  {
   "cell_type": "code",
   "execution_count": 3,
   "metadata": {},
   "outputs": [],
   "source": [
    "male_df = df[df.Sex=='M']\n",
    "sport_weight_height_metrics = male_df.groupby(['Sport'])['Weight','Height'].agg(['min','max','mean'])"
   ]
  },
  {
   "cell_type": "code",
   "execution_count": 5,
   "metadata": {},
   "outputs": [
    {
     "data": {
      "text/html": [
       "<div>\n",
       "<style scoped>\n",
       "    .dataframe tbody tr th:only-of-type {\n",
       "        vertical-align: middle;\n",
       "    }\n",
       "\n",
       "    .dataframe tbody tr th {\n",
       "        vertical-align: top;\n",
       "    }\n",
       "\n",
       "    .dataframe thead th {\n",
       "        text-align: right;\n",
       "    }\n",
       "</style>\n",
       "<table border=\"1\" class=\"dataframe\">\n",
       "  <thead>\n",
       "    <tr style=\"text-align: right;\">\n",
       "      <th></th>\n",
       "      <th>min</th>\n",
       "      <th>max</th>\n",
       "      <th>mean</th>\n",
       "    </tr>\n",
       "    <tr>\n",
       "      <th>Sport</th>\n",
       "      <th></th>\n",
       "      <th></th>\n",
       "      <th></th>\n",
       "    </tr>\n",
       "  </thead>\n",
       "  <tbody>\n",
       "    <tr>\n",
       "      <th>Tug-Of-War</th>\n",
       "      <td>75.0</td>\n",
       "      <td>118.0</td>\n",
       "      <td>95.615385</td>\n",
       "    </tr>\n",
       "    <tr>\n",
       "      <th>Basketball</th>\n",
       "      <td>59.0</td>\n",
       "      <td>156.0</td>\n",
       "      <td>91.683529</td>\n",
       "    </tr>\n",
       "    <tr>\n",
       "      <th>Rugby Sevens</th>\n",
       "      <td>65.0</td>\n",
       "      <td>113.0</td>\n",
       "      <td>91.006623</td>\n",
       "    </tr>\n",
       "    <tr>\n",
       "      <th>Bobsleigh</th>\n",
       "      <td>55.0</td>\n",
       "      <td>145.0</td>\n",
       "      <td>90.387385</td>\n",
       "    </tr>\n",
       "    <tr>\n",
       "      <th>Beach Volleyball</th>\n",
       "      <td>62.0</td>\n",
       "      <td>110.0</td>\n",
       "      <td>89.512821</td>\n",
       "    </tr>\n",
       "    <tr>\n",
       "      <th>Handball</th>\n",
       "      <td>62.0</td>\n",
       "      <td>132.0</td>\n",
       "      <td>89.387914</td>\n",
       "    </tr>\n",
       "    <tr>\n",
       "      <th>Water Polo</th>\n",
       "      <td>61.0</td>\n",
       "      <td>125.0</td>\n",
       "      <td>87.706172</td>\n",
       "    </tr>\n",
       "    <tr>\n",
       "      <th>Volleyball</th>\n",
       "      <td>56.0</td>\n",
       "      <td>120.0</td>\n",
       "      <td>86.925926</td>\n",
       "    </tr>\n",
       "    <tr>\n",
       "      <th>Baseball</th>\n",
       "      <td>38.0</td>\n",
       "      <td>120.0</td>\n",
       "      <td>85.707792</td>\n",
       "    </tr>\n",
       "    <tr>\n",
       "      <th>Ice Hockey</th>\n",
       "      <td>52.0</td>\n",
       "      <td>116.0</td>\n",
       "      <td>83.775593</td>\n",
       "    </tr>\n",
       "    <tr>\n",
       "      <th>Rowing</th>\n",
       "      <td>37.0</td>\n",
       "      <td>137.0</td>\n",
       "      <td>83.665663</td>\n",
       "    </tr>\n",
       "    <tr>\n",
       "      <th>Judo</th>\n",
       "      <td>52.0</td>\n",
       "      <td>214.0</td>\n",
       "      <td>83.573945</td>\n",
       "    </tr>\n",
       "    <tr>\n",
       "      <th>Skeleton</th>\n",
       "      <td>65.0</td>\n",
       "      <td>127.0</td>\n",
       "      <td>82.018349</td>\n",
       "    </tr>\n",
       "    <tr>\n",
       "      <th>Curling</th>\n",
       "      <td>61.0</td>\n",
       "      <td>105.0</td>\n",
       "      <td>81.465686</td>\n",
       "    </tr>\n",
       "    <tr>\n",
       "      <th>Luge</th>\n",
       "      <td>52.0</td>\n",
       "      <td>112.0</td>\n",
       "      <td>80.803311</td>\n",
       "    </tr>\n",
       "    <tr>\n",
       "      <th>Weightlifting</th>\n",
       "      <td>50.0</td>\n",
       "      <td>176.5</td>\n",
       "      <td>80.251796</td>\n",
       "    </tr>\n",
       "    <tr>\n",
       "      <th>Canoeing</th>\n",
       "      <td>53.0</td>\n",
       "      <td>115.0</td>\n",
       "      <td>79.972378</td>\n",
       "    </tr>\n",
       "    <tr>\n",
       "      <th>Golf</th>\n",
       "      <td>63.0</td>\n",
       "      <td>104.0</td>\n",
       "      <td>79.245283</td>\n",
       "    </tr>\n",
       "    <tr>\n",
       "      <th>Sailing</th>\n",
       "      <td>50.0</td>\n",
       "      <td>130.0</td>\n",
       "      <td>78.849712</td>\n",
       "    </tr>\n",
       "    <tr>\n",
       "      <th>Tennis</th>\n",
       "      <td>59.0</td>\n",
       "      <td>111.0</td>\n",
       "      <td>78.842912</td>\n",
       "    </tr>\n",
       "    <tr>\n",
       "      <th>Alpine Skiing</th>\n",
       "      <td>50.0</td>\n",
       "      <td>107.0</td>\n",
       "      <td>78.626035</td>\n",
       "    </tr>\n",
       "    <tr>\n",
       "      <th>Swimming</th>\n",
       "      <td>45.0</td>\n",
       "      <td>114.0</td>\n",
       "      <td>78.040567</td>\n",
       "    </tr>\n",
       "    <tr>\n",
       "      <th>Shooting</th>\n",
       "      <td>41.0</td>\n",
       "      <td>140.0</td>\n",
       "      <td>77.834960</td>\n",
       "    </tr>\n",
       "    <tr>\n",
       "      <th>Rugby</th>\n",
       "      <td>68.0</td>\n",
       "      <td>99.0</td>\n",
       "      <td>77.533333</td>\n",
       "    </tr>\n",
       "    <tr>\n",
       "      <th>Archery</th>\n",
       "      <td>46.0</td>\n",
       "      <td>130.0</td>\n",
       "      <td>77.066866</td>\n",
       "    </tr>\n",
       "    <tr>\n",
       "      <th>Motorboating</th>\n",
       "      <td>77.0</td>\n",
       "      <td>77.0</td>\n",
       "      <td>77.000000</td>\n",
       "    </tr>\n",
       "    <tr>\n",
       "      <th>Snowboarding</th>\n",
       "      <td>50.0</td>\n",
       "      <td>102.0</td>\n",
       "      <td>76.861598</td>\n",
       "    </tr>\n",
       "    <tr>\n",
       "      <th>Lacrosse</th>\n",
       "      <td>60.0</td>\n",
       "      <td>98.0</td>\n",
       "      <td>76.714286</td>\n",
       "    </tr>\n",
       "    <tr>\n",
       "      <th>Wrestling</th>\n",
       "      <td>47.0</td>\n",
       "      <td>190.0</td>\n",
       "      <td>76.400640</td>\n",
       "    </tr>\n",
       "    <tr>\n",
       "      <th>Speed Skating</th>\n",
       "      <td>50.0</td>\n",
       "      <td>100.0</td>\n",
       "      <td>76.300403</td>\n",
       "    </tr>\n",
       "    <tr>\n",
       "      <th>Fencing</th>\n",
       "      <td>48.0</td>\n",
       "      <td>108.0</td>\n",
       "      <td>75.381977</td>\n",
       "    </tr>\n",
       "    <tr>\n",
       "      <th>Art Competitions</th>\n",
       "      <td>59.0</td>\n",
       "      <td>93.0</td>\n",
       "      <td>75.290909</td>\n",
       "    </tr>\n",
       "    <tr>\n",
       "      <th>Taekwondo</th>\n",
       "      <td>54.0</td>\n",
       "      <td>110.0</td>\n",
       "      <td>74.653595</td>\n",
       "    </tr>\n",
       "    <tr>\n",
       "      <th>Freestyle Skiing</th>\n",
       "      <td>47.0</td>\n",
       "      <td>108.0</td>\n",
       "      <td>74.648148</td>\n",
       "    </tr>\n",
       "    <tr>\n",
       "      <th>Badminton</th>\n",
       "      <td>55.0</td>\n",
       "      <td>97.0</td>\n",
       "      <td>74.362536</td>\n",
       "    </tr>\n",
       "    <tr>\n",
       "      <th>Athletics</th>\n",
       "      <td>42.0</td>\n",
       "      <td>165.0</td>\n",
       "      <td>73.839129</td>\n",
       "    </tr>\n",
       "    <tr>\n",
       "      <th>Hockey</th>\n",
       "      <td>48.0</td>\n",
       "      <td>105.0</td>\n",
       "      <td>73.343761</td>\n",
       "    </tr>\n",
       "    <tr>\n",
       "      <th>Football</th>\n",
       "      <td>28.0</td>\n",
       "      <td>100.0</td>\n",
       "      <td>73.086644</td>\n",
       "    </tr>\n",
       "    <tr>\n",
       "      <th>Biathlon</th>\n",
       "      <td>51.0</td>\n",
       "      <td>95.0</td>\n",
       "      <td>72.632123</td>\n",
       "    </tr>\n",
       "    <tr>\n",
       "      <th>Cycling</th>\n",
       "      <td>48.0</td>\n",
       "      <td>104.0</td>\n",
       "      <td>72.190234</td>\n",
       "    </tr>\n",
       "    <tr>\n",
       "      <th>Modern Pentathlon</th>\n",
       "      <td>56.0</td>\n",
       "      <td>91.0</td>\n",
       "      <td>72.068824</td>\n",
       "    </tr>\n",
       "    <tr>\n",
       "      <th>Cross Country Skiing</th>\n",
       "      <td>53.0</td>\n",
       "      <td>100.0</td>\n",
       "      <td>71.700832</td>\n",
       "    </tr>\n",
       "    <tr>\n",
       "      <th>Table Tennis</th>\n",
       "      <td>50.0</td>\n",
       "      <td>99.0</td>\n",
       "      <td>71.414239</td>\n",
       "    </tr>\n",
       "    <tr>\n",
       "      <th>Short Track Speed Skating</th>\n",
       "      <td>51.0</td>\n",
       "      <td>86.0</td>\n",
       "      <td>71.401869</td>\n",
       "    </tr>\n",
       "    <tr>\n",
       "      <th>Equestrianism</th>\n",
       "      <td>50.0</td>\n",
       "      <td>100.0</td>\n",
       "      <td>70.924559</td>\n",
       "    </tr>\n",
       "    <tr>\n",
       "      <th>Figure Skating</th>\n",
       "      <td>47.0</td>\n",
       "      <td>90.0</td>\n",
       "      <td>69.591644</td>\n",
       "    </tr>\n",
       "    <tr>\n",
       "      <th>Triathlon</th>\n",
       "      <td>54.0</td>\n",
       "      <td>82.0</td>\n",
       "      <td>68.803774</td>\n",
       "    </tr>\n",
       "    <tr>\n",
       "      <th>Diving</th>\n",
       "      <td>37.0</td>\n",
       "      <td>91.0</td>\n",
       "      <td>67.069378</td>\n",
       "    </tr>\n",
       "    <tr>\n",
       "      <th>Nordic Combined</th>\n",
       "      <td>53.0</td>\n",
       "      <td>86.0</td>\n",
       "      <td>66.909560</td>\n",
       "    </tr>\n",
       "    <tr>\n",
       "      <th>Trampolining</th>\n",
       "      <td>57.0</td>\n",
       "      <td>84.0</td>\n",
       "      <td>65.837838</td>\n",
       "    </tr>\n",
       "    <tr>\n",
       "      <th>Boxing</th>\n",
       "      <td>46.0</td>\n",
       "      <td>140.0</td>\n",
       "      <td>65.296280</td>\n",
       "    </tr>\n",
       "    <tr>\n",
       "      <th>Ski Jumping</th>\n",
       "      <td>50.0</td>\n",
       "      <td>85.0</td>\n",
       "      <td>65.245881</td>\n",
       "    </tr>\n",
       "    <tr>\n",
       "      <th>Gymnastics</th>\n",
       "      <td>46.0</td>\n",
       "      <td>102.0</td>\n",
       "      <td>63.343605</td>\n",
       "    </tr>\n",
       "  </tbody>\n",
       "</table>\n",
       "</div>"
      ],
      "text/plain": [
       "                            min    max       mean\n",
       "Sport                                            \n",
       "Tug-Of-War                 75.0  118.0  95.615385\n",
       "Basketball                 59.0  156.0  91.683529\n",
       "Rugby Sevens               65.0  113.0  91.006623\n",
       "Bobsleigh                  55.0  145.0  90.387385\n",
       "Beach Volleyball           62.0  110.0  89.512821\n",
       "Handball                   62.0  132.0  89.387914\n",
       "Water Polo                 61.0  125.0  87.706172\n",
       "Volleyball                 56.0  120.0  86.925926\n",
       "Baseball                   38.0  120.0  85.707792\n",
       "Ice Hockey                 52.0  116.0  83.775593\n",
       "Rowing                     37.0  137.0  83.665663\n",
       "Judo                       52.0  214.0  83.573945\n",
       "Skeleton                   65.0  127.0  82.018349\n",
       "Curling                    61.0  105.0  81.465686\n",
       "Luge                       52.0  112.0  80.803311\n",
       "Weightlifting              50.0  176.5  80.251796\n",
       "Canoeing                   53.0  115.0  79.972378\n",
       "Golf                       63.0  104.0  79.245283\n",
       "Sailing                    50.0  130.0  78.849712\n",
       "Tennis                     59.0  111.0  78.842912\n",
       "Alpine Skiing              50.0  107.0  78.626035\n",
       "Swimming                   45.0  114.0  78.040567\n",
       "Shooting                   41.0  140.0  77.834960\n",
       "Rugby                      68.0   99.0  77.533333\n",
       "Archery                    46.0  130.0  77.066866\n",
       "Motorboating               77.0   77.0  77.000000\n",
       "Snowboarding               50.0  102.0  76.861598\n",
       "Lacrosse                   60.0   98.0  76.714286\n",
       "Wrestling                  47.0  190.0  76.400640\n",
       "Speed Skating              50.0  100.0  76.300403\n",
       "Fencing                    48.0  108.0  75.381977\n",
       "Art Competitions           59.0   93.0  75.290909\n",
       "Taekwondo                  54.0  110.0  74.653595\n",
       "Freestyle Skiing           47.0  108.0  74.648148\n",
       "Badminton                  55.0   97.0  74.362536\n",
       "Athletics                  42.0  165.0  73.839129\n",
       "Hockey                     48.0  105.0  73.343761\n",
       "Football                   28.0  100.0  73.086644\n",
       "Biathlon                   51.0   95.0  72.632123\n",
       "Cycling                    48.0  104.0  72.190234\n",
       "Modern Pentathlon          56.0   91.0  72.068824\n",
       "Cross Country Skiing       53.0  100.0  71.700832\n",
       "Table Tennis               50.0   99.0  71.414239\n",
       "Short Track Speed Skating  51.0   86.0  71.401869\n",
       "Equestrianism              50.0  100.0  70.924559\n",
       "Figure Skating             47.0   90.0  69.591644\n",
       "Triathlon                  54.0   82.0  68.803774\n",
       "Diving                     37.0   91.0  67.069378\n",
       "Nordic Combined            53.0   86.0  66.909560\n",
       "Trampolining               57.0   84.0  65.837838\n",
       "Boxing                     46.0  140.0  65.296280\n",
       "Ski Jumping                50.0   85.0  65.245881\n",
       "Gymnastics                 46.0  102.0  63.343605"
      ]
     },
     "execution_count": 5,
     "metadata": {},
     "output_type": "execute_result"
    }
   ],
   "source": [
    "sport_weight_height_metrics.Weight.dropna().sort_values('mean', ascending=False)"
   ]
  },
  {
   "cell_type": "code",
   "execution_count": 6,
   "metadata": {},
   "outputs": [
    {
     "data": {
      "text/plain": [
       "<matplotlib.axes._subplots.AxesSubplot at 0x7f6424d2a750>"
      ]
     },
     "execution_count": 6,
     "metadata": {},
     "output_type": "execute_result"
    },
    {
     "data": {
      "image/png": "[encoded data removed]",
      "text/plain": [
       "<Figure size 432x288 with 1 Axes>"
      ]
     },
     "metadata": {},
     "output_type": "display_data"
    }
   ],
   "source": [
    "sns.distplot(sport_weight_height_metrics.Height.dropna()['mean'])"
   ]
  },
  {
   "cell_type": "code",
   "execution_count": 9,
   "metadata": {},
   "outputs": [
    {
     "data": {
      "text/plain": [
       "<matplotlib.axes._subplots.AxesSubplot at 0x7f6424b3d250>"
      ]
     },
     "execution_count": 9,
     "metadata": {},
     "output_type": "execute_result"
    },
    {
     "data": {
      "image/png": "[encoded data removed]",
      "text/plain": [
       "<Figure size 432x288 with 1 Axes>"
      ]
     },
     "metadata": {},
     "output_type": "display_data"
    }
   ],
   "source": [
    "means = list(sport_weight_height_metrics.Weight.dropna()['mean'])\n",
    "sports = list(sport_weight_height_metrics.Weight.dropna().index)\n",
    "plot_data = sorted(zip(sports, means), key = lambda x:x[1])\n",
    "plot_data_dict = {\n",
    "    'x' : [i for i, _ in enumerate(plot_data)],\n",
    "    'y' : [v[1] for i, v in enumerate(plot_data)],\n",
    "    'group' :  [v[0] for i, v in enumerate(plot_data)]\n",
    "}\n",
    "sns.scatterplot(data = plot_data_dict, x = 'x' , y = 'y')"
   ]
  },
  {
   "cell_type": "code",
   "execution_count": 47,
   "metadata": {},
   "outputs": [
    {
     "name": "stdout",
     "output_type": "stream",
     "text": [
      "lightest:\n",
      "Gymnastics: 63.3436047592\n",
      "Ski Jumping: 65.2458805355\n",
      "Boxing: 65.2962797951\n",
      "Trampolining: 65.8378378378\n",
      "Nordic Combined: 66.9095595127\n",
      "\n",
      "heaviest:\n",
      "Beach Volleyball: 89.5128205128\n",
      "Bobsleigh: 90.3873852102\n",
      "Rugby Sevens: 91.0066225166\n",
      "Basketball: 91.6835289357\n",
      "Tug-Of-War: 95.6153846154\n"
     ]
    }
   ],
   "source": [
    "print('lightest:')\n",
    "for sport,weight in plot_data[:5]:\n",
    "    print(sport + ': ' + str(weight))\n",
    "\n",
    "print('\\nheaviest:')    \n",
    "for sport,weight in plot_data[-5:]:\n",
    "    print(sport + ': ' + str(weight))"
   ]
  },
  {
   "cell_type": "code",
   "execution_count": 49,
   "metadata": {},
   "outputs": [
    {
     "data": {
      "text/plain": [
       "<matplotlib.axes._subplots.AxesSubplot at 0x7f596bf9c590>"
      ]
     },
     "execution_count": 49,
     "metadata": {},
     "output_type": "execute_result"
    },
    {
     "data": {
      "image/png": "[encoded data removed]",
      "text/plain": [
       "<Figure size 432x288 with 1 Axes>"
      ]
     },
     "metadata": {},
     "output_type": "display_data"
    }
   ],
   "source": [
    "means = list(sport_weight_height_metrics.Height.dropna()['mean'])\n",
    "sports = list(sport_weight_height_metrics.Height.dropna().index)\n",
    "plot_data = sorted(zip(sports, means), key = lambda x:x[1])\n",
    "plot_data_dict = {\n",
    "    'x' : [i for i, _ in enumerate(plot_data)],\n",
    "    'y' : [v[1] for i, v in enumerate(plot_data)],\n",
    "    'group' :  [v[0] for i, v in enumerate(plot_data)]\n",
    "}\n",
    "sns.scatterplot(data = plot_data_dict, x = 'x' , y = 'y')"
   ]
  },
  {
   "cell_type": "code",
   "execution_count": 50,
   "metadata": {},
   "outputs": [
    {
     "name": "stdout",
     "output_type": "stream",
     "text": [
      "shortest:\n",
      "Gymnastics: 167.644438396\n",
      "Weightlifting: 169.153061224\n",
      "Trampolining: 171.368421053\n",
      "Diving: 171.555352242\n",
      "Wrestling: 172.870686236\n",
      "\n",
      "tallest:\n",
      "Rowing: 186.882697947\n",
      "Handball: 188.778373113\n",
      "Volleyball: 193.265659955\n",
      "Beach Volleyball: 193.290909091\n",
      "Basketball: 194.872623574\n"
     ]
    }
   ],
   "source": [
    "print('shortest:')\n",
    "for sport,height in plot_data[:5]:\n",
    "    print(sport + ': ' + str(height))\n",
    "\n",
    "print('\\ntallest:')    \n",
    "for sport,height in plot_data[-5:]:\n",
    "    print(sport + ': ' + str(height))"
   ]
  },
  {
   "cell_type": "code",
   "execution_count": 11,
   "metadata": {},
   "outputs": [
    {
     "data": {
      "text/plain": [
       "<matplotlib.axes._subplots.AxesSubplot at 0x7f6424cc3e10>"
      ]
     },
     "execution_count": 11,
     "metadata": {},
     "output_type": "execute_result"
    },
    {
     "data": {
      "image/png": "[encoded data removed]",
      "text/plain": [
       "<Figure size 432x288 with 1 Axes>"
      ]
     },
     "metadata": {},
     "output_type": "display_data"
    }
   ],
   "source": [
    "mean_heights = sport_weight_height_metrics.Height.dropna()['mean']\n",
    "mean_weights = sport_weight_height_metrics.Weight.dropna()['mean']\n",
    "avg_build = mean_weights/mean_heights\n",
    "avg_build.sort_values(ascending = True)\n",
    "builds = list(avg_build.sort_values(ascending = True))\n",
    "\n",
    "plot_dict = {'x':[i for i,_ in enumerate(builds)],'y':builds}\n",
    "sns.lineplot(data=plot_dict, x='x', y='y')\n",
    "\n"
   ]
  },
  {
   "cell_type": "code",
   "execution_count": 14,
   "metadata": {},
   "outputs": [
    {
     "data": {
      "text/plain": [
       "Sport\n",
       "Tug-Of-War                   0.523977\n",
       "Rugby Sevens                 0.497754\n",
       "Bobsleigh                    0.496656\n",
       "Weightlifting                0.474433\n",
       "Handball                     0.473507\n",
       "Judo                         0.470872\n",
       "Basketball                   0.470479\n",
       "Water Polo                   0.469515\n",
       "Baseball                     0.469376\n",
       "Beach Volleyball             0.463099\n",
       "Ice Hockey                   0.462870\n",
       "Skeleton                     0.452958\n",
       "Curling                      0.450811\n",
       "Luge                         0.450804\n",
       "Volleyball                   0.449774\n",
       "Rowing                       0.447691\n",
       "Golf                         0.442746\n",
       "Shooting                     0.442301\n",
       "Alpine Skiing                0.441989\n",
       "Wrestling                    0.441953\n",
       "Canoeing                     0.441318\n",
       "Lacrosse                     0.440887\n",
       "Rugby                        0.440288\n",
       "Sailing                      0.437672\n",
       "Archery                      0.431801\n",
       "Snowboarding                 0.430534\n",
       "Art Competitions             0.430488\n",
       "Tennis                       0.426529\n",
       "Speed Skating                0.425824\n",
       "Motorboating                 0.425414\n",
       "Swimming                     0.423418\n",
       "Freestyle Skiing             0.423074\n",
       "Fencing                      0.418756\n",
       "Hockey                       0.414717\n",
       "Badminton                    0.413997\n",
       "Football                     0.411801\n",
       "Athletics                    0.410746\n",
       "Taekwondo                    0.409244\n",
       "Short Track Speed Skating    0.406590\n",
       "Cycling                      0.406144\n",
       "Biathlon                     0.406092\n",
       "Table Tennis                 0.403451\n",
       "Cross Country Skiing         0.403363\n",
       "Modern Pentathlon            0.402422\n",
       "Equestrianism                0.401695\n",
       "Figure Skating               0.395267\n",
       "Diving                       0.390949\n",
       "Trampolining                 0.384189\n",
       "Triathlon                    0.381829\n",
       "Nordic Combined              0.379081\n",
       "Gymnastics                   0.377845\n",
       "Boxing                       0.377679\n",
       "Ski Jumping                  0.369498\n",
       "Jeu De Paume                      NaN\n",
       "Polo                              NaN\n",
       "Racquets                          NaN\n",
       "Name: mean, dtype: float64"
      ]
     },
     "execution_count": 14,
     "metadata": {},
     "output_type": "execute_result"
    }
   ],
   "source": [
    "avg_build.sort_values(ascending=False)"
   ]
  },
  {
   "cell_type": "code",
   "execution_count": 16,
   "metadata": {},
   "outputs": [
    {
     "data": {
      "text/plain": [
       "<matplotlib.axes._subplots.AxesSubplot at 0x7f64249765d0>"
      ]
     },
     "execution_count": 16,
     "metadata": {},
     "output_type": "execute_result"
    },
    {
     "data": {
      "image/png": "[encoded data removed]",
      "text/plain": [
       "<Figure size 432x288 with 1 Axes>"
      ]
     },
     "metadata": {},
     "output_type": "display_data"
    }
   ],
   "source": [
    "sport_min_year = male_df.groupby('Sport').Year.agg(['min','max'])['min'].sort_values('index')\n",
    "year_count = {}\n",
    "for y in sport_min_year:\n",
    "    try:\n",
    "        year_count[y] += 1\n",
    "    except:\n",
    "        year_count[y] = 1\n",
    "year = [k for k,v in year_count.items()]\n",
    "new_sports = [v for k,v in year_count.items()]\n",
    "\n",
    "data = {'x':year, 'y':new_sports}\n",
    "sns.scatterplot(data=data, x = 'x', y='y')"
   ]
  },
  {
   "cell_type": "code",
   "execution_count": 17,
   "metadata": {},
   "outputs": [
    {
     "data": {
      "text/plain": [
       "<matplotlib.axes._subplots.AxesSubplot at 0x7f64249af5d0>"
      ]
     },
     "execution_count": 17,
     "metadata": {},
     "output_type": "execute_result"
    },
    {
     "data": {
      "image/png": "[encoded data removed]",
      "text/plain": [
       "<Figure size 432x288 with 1 Axes>"
      ]
     },
     "metadata": {},
     "output_type": "display_data"
    }
   ],
   "source": [
    "sport_max_year = male_df.groupby('Sport').Year.agg(['min','max'])['max'].sort_values('index')\n",
    "year_count = {}\n",
    "for y in sport_max_year:\n",
    "    try:\n",
    "        year_count[y] += 1\n",
    "    except:\n",
    "        year_count[y] = 1\n",
    "year = [k for k,v in year_count.items()]\n",
    "deprecated_sports = [v for k,v in year_count.items()]\n",
    "\n",
    "data = {'x':year, 'y':deprecated_sports}\n",
    "sns.scatterplot(data=data, x = 'x', y='y')"
   ]
  },
  {
   "cell_type": "code",
   "execution_count": 29,
   "metadata": {},
   "outputs": [
    {
     "data": {
      "text/plain": [
       "Sport\n",
       "Basque Pelota          1900\n",
       "Croquet                1900\n",
       "Cricket                1900\n",
       "Roque                  1904\n",
       "Jeu De Paume           1908\n",
       "Racquets               1908\n",
       "Motorboating           1908\n",
       "Lacrosse               1908\n",
       "Tug-Of-War             1920\n",
       "Rugby                  1924\n",
       "Military Ski Patrol    1924\n",
       "Polo                   1936\n",
       "Aeronautics            1936\n",
       "Alpinism               1936\n",
       "Art Competitions       1948\n",
       "Name: max, dtype: int64"
      ]
     },
     "execution_count": 29,
     "metadata": {},
     "output_type": "execute_result"
    }
   ],
   "source": [
    "sport_max_year[sport_max_year <2000]"
   ]
  },
  {
   "cell_type": "code",
   "execution_count": 20,
   "metadata": {},
   "outputs": [
    {
     "data": {
      "text/plain": [
       "Sport\n",
       "Biathlon                     1960\n",
       "Luge                         1964\n",
       "Volleyball                   1964\n",
       "Judo                         1964\n",
       "Table Tennis                 1988\n",
       "Baseball                     1992\n",
       "Short Track Speed Skating    1992\n",
       "Badminton                    1992\n",
       "Freestyle Skiing             1992\n",
       "Beach Volleyball             1996\n",
       "Snowboarding                 1998\n",
       "Taekwondo                    2000\n",
       "Trampolining                 2000\n",
       "Triathlon                    2000\n",
       "Rugby Sevens                 2016\n",
       "Name: min, dtype: int64"
      ]
     },
     "execution_count": 20,
     "metadata": {},
     "output_type": "execute_result"
    }
   ],
   "source": [
    "sport_min_year[sport_min_year >1936]"
   ]
  },
  {
   "cell_type": "code",
   "execution_count": null,
   "metadata": {},
   "outputs": [],
   "source": []
  }
 ],
 "metadata": {
  "kernelspec": {
   "display_name": "Python 2",
   "language": "python",
   "name": "python2"
  },
  "language_info": {
   "codemirror_mode": {
    "name": "ipython",
    "version": 2
   },
   "file_extension": ".py",
   "mimetype": "text/x-python",
   "name": "python",
   "nbconvert_exporter": "python",
   "pygments_lexer": "ipython2",
   "version": "2.7.12"
  }
 },
 "nbformat": 4,
 "nbformat_minor": 2
}
